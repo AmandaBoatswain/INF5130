{
  "nbformat": 4,
  "nbformat_minor": 0,
  "metadata": {
    "colab": {
      "provenance": [],
      "toc_visible": true,
      "gpuType": "T4"
    },
    "kernelspec": {
      "name": "python3",
      "display_name": "Python 3"
    },
    "language_info": {
      "name": "python"
    },
    "accelerator": "GPU"
  },
  "cells": [
    {
      "cell_type": "markdown",
      "source": [
        "# Démonstration 1  \n",
        "\n",
        "* Mercredi le 11 Septembre 2024\n",
        "* 9h30-11h30, SH-3620 | Campus de Montréal\n",
        "* Présenté par Amanda Boatswain Jacques"
      ],
      "metadata": {
        "id": "CwQ9JBWlWrBX"
      }
    },
    {
      "cell_type": "markdown",
      "source": [
        "## **Exercice 1**\n",
        "\n",
        "On considère le problème consistant à additionner deux nombres naturels exprimés dans la base deux, dont les \"chiffres\" sont stockés dans des tableaux de $n$ éléments. Ces tableaux sont respectivement appelés $A$ et $B$. La somme des deux nombres doit être calculée et placée dans un tableau nommé $C$ et contenant $ n+1 $ éléments.\n",
        "\n",
        "(a) Écrivez une fonction qui prend en entrée les tableaux $A$ et $B$ et retourne le tableau $C$. (b) Quelle est la complexité de votre algorithme?\n",
        "\n",
        "\n",
        "*Solution*:\n"
      ],
      "metadata": {
        "id": "JmXZNydkXEh_"
      }
    },
    {
      "cell_type": "markdown",
      "source": [
        "*a.   Écrivez une fonction qui prend en entrée les tableaux $A$ et $B$ et retourne le tableau $C$.*\n",
        "\n",
        "On suppose que le chiffre le moins significatif se trouve à l'indice\n",
        "n, et le chiffre le plus significatif à l'indice 0.  L'algorithme parcourt alors les tableaux $A$ et $B$ de droite à gauche (de l'indice $n$ à $0$).\n",
        "\n",
        "On peut visualiser un exemple en utilisant 2 tableaux A et B où $n = 3 $  bits. On se sert d'une variable nommée `retenue`, qui va gérer le report de l'addition lorsque la somme d'une colonne dépasse une valeur de 1. L'opération d'addition génère un tableau de longueur au plus égal à n + 1 (dans ce cas, 3 + 1 = 4).\n",
        "\n",
        "&nbsp;  \n",
        "<img src=\"https://raw.githubusercontent.com/AmandaBoatswain/INF5130/8b944a86894b1781475678968e7c783b602d5bf3/figures/exercice_1fig1.png\" />"
      ],
      "metadata": {
        "id": "ZBogJKKVZebf"
      }
    },
    {
      "cell_type": "markdown",
      "source": [
        "\n",
        "Pseudocode pour la fonction *addition_binaire*\n",
        "\n",
        "```\n",
        "Fonction addition_binaire(A, B):\n",
        "    Entrée :\n",
        "        A : tableau de n éléments (bits)\n",
        "        B : tableau de n éléments (bits)\n",
        "    Sortie :\n",
        "        C : tableau de n+1 éléments (bits)\n",
        "\n",
        "    n ← longueur(A) ▷ Nombre d'éléments dans les tableaux A et B\n",
        "    C ← tableau de taille (n + 1) initialisé à 0  ▷ Résultat de la somme\n",
        "    retenue ← 0  ▷ Initialiser la retenue à 0\n",
        "\n",
        "    ▷ Parcourir les tableaux A et B de droite à gauche\n",
        "    Pour i ← (n - 1) bas 0 (inclus) faire\n",
        "        somme ← A[i] + B[i] + retenue  ▷ Additionner les bits correspondants avec la retenue\n",
        "        C[i+1] ← somme mod 2  ▷ Stocker le reste (bit de la somme) à l'indice correspondant dans C\n",
        "        retenue ← somme ÷ 2  ▷ Le quotient devient la nouvelle retenue\n",
        "    fin Pour\n",
        "\n",
        "    ▷ Placer le dernier report dans C[0]\n",
        "    C[0] ← retenue\n",
        "    Retourner C\n",
        "\n",
        "fin Fonction\n",
        "```\n",
        "\n"
      ],
      "metadata": {
        "id": "kJ_oMc6WvBKG"
      }
    },
    {
      "cell_type": "code",
      "source": [
        "def addition_binaire (A, B):\n",
        "  \"\"\"\n",
        "  entrées\n",
        "  ----------\n",
        "  A : tableau de n éléments\n",
        "  B : tableau de n éléments\n",
        "\n",
        "  sorties\n",
        "  ----------\n",
        "  C : tableau de n+1 éléments\n",
        "  \"\"\"\n",
        "  n = len(A)\n",
        "  C = [0] * (n + 1)  # Créer un tableau de taille n+1 pour stocker le résultat\n",
        "  retenue = 0  # Initialiser la retenue à 0\n",
        "\n",
        "  # Parcourir les tableaux A et B de droite à gauche (de l'indice n-1 à 0)\n",
        "  for i in range(n - 1, -1, -1):\n",
        "    \"\"\" On met -1 pour le dernier argument puisqu'on veut que la boucle\n",
        "    s'arrête juste avant d'atteindre l'indice -1, donc jusqu'à 0 inclus.\"\"\"\n",
        "\n",
        "    # Afficher les variables pour chaque itération pour voir les traces (optionnel)\n",
        "\n",
        "    \"\"\"\n",
        "    print(\"i : \", i)\n",
        "    print(\"A[i] : \", A[i])\n",
        "    print(\"B[i] : \", B[i])\n",
        "    print(\"Retenue : \", retenue)\n",
        "    print()\n",
        "    print(\"C : \", C)\n",
        "    \"\"\"\n",
        "\n",
        "    somme = A[i] + B[i] + retenue  # Additionner les bits correspondants avec la retenue\n",
        "    C[i+1] = somme % 2  # Le reste de la division par 2 est le bit à cet indice\n",
        "    retenue = somme // 2  # Le quotient devient le nouveau report\n",
        "\n",
        "    \"\"\"\n",
        "    if retenue !=0:\n",
        "      print(\"Retenue de 1 mise de côté pour n = \", i)\n",
        "    print()\n",
        "    \"\"\"\n",
        "\n",
        "  # Placer le dernier report dans l'élément C[0]\n",
        "  C[0] = retenue\n",
        "\n",
        "  # si le premier chiffre à gauche est un zéro, l'enlever.\n",
        "  if C[0]==0:\n",
        "    C.pop(0)\n",
        "\n",
        "  return C"
      ],
      "metadata": {
        "id": "OQe2pXAKXeWX"
      },
      "execution_count": 1,
      "outputs": []
    },
    {
      "cell_type": "markdown",
      "source": [
        "\n",
        "b.   Quelle est la complexité de votre algorithme?\n",
        "\n",
        "* **Complexité en temps** : L'algorithme parcourt une seule fois les tableaux $A$ et $B$, donc la complexité en temps est O($n$), où $n$ est la taille des tableaux $A$ et $B$.\n",
        "* **Complexité en espace** : L'algorithme utilise un tableau C de taille $n+1$, donc la complexité en espace est aussi en O($n$).\n",
        "\n",
        "On peut illustrer cela en roulant quelques exemples. D'abord on créé une fonction pratique pour générer des nombres binaires aléatoires:"
      ],
      "metadata": {
        "id": "ANGt5JAOZdWn"
      }
    },
    {
      "cell_type": "code",
      "source": [
        "import random\n",
        "\n",
        "def generer_nombre_binaire(n):\n",
        "    # Génère un tableau de n bits aléatoires (0 ou 1)\n",
        "    return [random.randint(0, 1) for _ in range(n)]"
      ],
      "metadata": {
        "id": "qG1DQLKCabI2"
      },
      "execution_count": 2,
      "outputs": []
    },
    {
      "cell_type": "markdown",
      "source": [
        "Ensuite, on imprime le résultat."
      ],
      "metadata": {
        "id": "jc1NJ4n-dCta"
      }
    },
    {
      "cell_type": "code",
      "source": [
        "# Exemple d'utilisation :\n",
        "\n",
        "n = 5 # Taille des nombres binaires\n",
        "A = generer_nombre_binaire(n)\n",
        "B = generer_nombre_binaire(n)\n",
        "\n",
        "print(\"Longueur des tableaux d'entrées: \", len(A))\n",
        "print(\"A =\", A)\n",
        "print(\"B =\", B)\n",
        "print()\n",
        "\n",
        "C = addition_binaire(A, B)\n",
        "print(\"Réponse: C = \", C)\n",
        "print(\"Longueur de C: \", len(C))"
      ],
      "metadata": {
        "colab": {
          "base_uri": "https://localhost:8080/"
        },
        "id": "ThybHEAvcyGV",
        "outputId": "e53e1b9c-5f8a-4368-f4bf-f0116a56be11"
      },
      "execution_count": 3,
      "outputs": [
        {
          "output_type": "stream",
          "name": "stdout",
          "text": [
            "Longueur des tableaux d'entrées:  5\n",
            "A = [0, 1, 1, 0, 0]\n",
            "B = [1, 0, 0, 0, 1]\n",
            "\n",
            "Réponse: C =  [1, 1, 1, 0, 1]\n",
            "Longueur de C:  5\n"
          ]
        }
      ]
    },
    {
      "cell_type": "markdown",
      "source": [
        "## **Exercice 2**\n",
        "Soient $A$ et $B$ deux tableaux ayant la même signification que dans l’exercice précédent. On veut maintenant multiplier les nombres représentés par $A$ et $B$ au lieu de les additionner. Le tableau $C$ contiendra la représentation du produit de $A$ et $B$ dans la base deux.\n",
        "\n",
        "(a)  Quel doit être le nombre d’éléments du tableau $C$ ?\n",
        "(b) Écrivez une fonction qui prend en entrée  A  et  B , et retourne  C.\n",
        "(c)  Quelle est la complexité de votre algorithme?"
      ],
      "metadata": {
        "id": "SNDjylssyD6n"
      }
    },
    {
      "cell_type": "markdown",
      "source": [
        "*Solution:*\n",
        "\n",
        "a.  *Quel doit être le nombre d’éléments du tableau $C$ ?*\n",
        "\n",
        "Lorsqu'on multiplie deux nombres binaires de longueur $n$, le produit peut avoir au maximum $2n$ bits. (Explication au tableau)"
      ],
      "metadata": {
        "id": "97uaZmboo1g9"
      }
    },
    {
      "cell_type": "markdown",
      "source": [
        "*b. Écrivez une fonction qui prend en entrée $A$ et $B$, et retourne $C$.*\n",
        "\n",
        "On peut visualiser les étapes de la multiplication entre deux chiffres binaires avec l'exemple ci-dessous. Dans ce cas, $n = 3$ bits.\n",
        "&nbsp;  \n",
        "\n",
        "<img src=\"https://raw.githubusercontent.com/AmandaBoatswain/INF5130/main/figures/exercice_2fig1.png\" />\n",
        "\n",
        " On peut résoudre le problème en crééant un algorithme qui fonctionne en trois étapes:\n",
        "\n",
        "1. **Copier**: D'abord, on créé une fonction nommée **copier**. Cette fonction ajoute des zéros à droite de A en fonction de la position du bit de B actuellement traité. Cela correspond au déplacement à gauche lors de la multiplication.\n",
        "2.  **Addition des résultats partiels** : Pour chaque bit de $B$, si ce bit est 1, on ajoute $A$ décalé à gauche à un produit partiel à l'aide de la fonction **addition_binaire** (créée dans l'exercice précédent).\n",
        "3. **Tableau de sortie** : Le tableau final, produit_partiel, est un tableau de $2n$ éléments.\n",
        "\n",
        "\n",
        "\n",
        "\n"
      ],
      "metadata": {
        "id": "fVDJuaomyOUA"
      }
    },
    {
      "cell_type": "markdown",
      "source": [
        "D'abord la procédure `copier` copie les éléments de T à la fin de R, puis les décale de deca positions vers la gauche."
      ],
      "metadata": {
        "id": "eobDNk-49er3"
      }
    },
    {
      "cell_type": "markdown",
      "source": [
        "Pseudocode pour la procédure *copier*\n",
        "\n",
        "\n",
        "```\n",
        "Procedure copier(T, R, deca)\n",
        "    Entrée:\n",
        "      T : tableau à copier\n",
        "      R : tableau dans lequel copier\n",
        "      deca : nombre de positions de décalage\n",
        "    Sortie :\n",
        "    \n",
        "    n ← longueur de T      \n",
        "    m ← longueur de R      \n",
        "\n",
        "    ▷ Calculer l'indice de départ pour copier T à la fin de R\n",
        "    index_debut ← m - n\n",
        "\n",
        "    ▷ Copier les éléments de T à la fin de R\n",
        "    Pour j de 0 à n - 1 faire\n",
        "        R[index_debut + j] ← T[j]\n",
        "    fin Pour\n",
        "\n",
        "    ▷ Décaler les éléments de T de 'deca' positions vers la gauche dans R\n",
        "    Pour j de index_debut à m - 1 faire\n",
        "        Si j - deca >= 0 alors\n",
        "            R[j - deca] ← R[j]\n",
        "        fin Si\n",
        "    fin Pour\n",
        "\n",
        "    ▷ Remplir les dernières cases de R avec des zéros après le décalage\n",
        "    Pour j de m - deca à m - 1 faire\n",
        "        R[j] ← 0\n",
        "    fin Pour\n",
        "\n",
        "fin Procedure\n",
        "```\n",
        "\n"
      ],
      "metadata": {
        "id": "O9PIVHfuQIFO"
      }
    },
    {
      "cell_type": "code",
      "source": [
        "def copier(T, R, deca):\n",
        "    \"\"\"\n",
        "    Copie les éléments de T à la fin de R, puis les décale de deca positions vers la gauche.\n",
        "    T : tableau à copier\n",
        "    R : tableau dans lequel copier\n",
        "    deca : nombre de positions de décalage\n",
        "    \"\"\"\n",
        "    n = len(T)  # Longueur du tableau T\n",
        "    m = len(R)  # Longueur du tableau R\n",
        "\n",
        "    # Calculer l'indice de départ pour copier T à la fin de R\n",
        "    index_debut = m - n\n",
        "\n",
        "    # Copier les éléments de T à la fin de R\n",
        "    for j in range(n):\n",
        "        R[index_debut + j] = T[j]\n",
        "\n",
        "    # Ensuite, décaler les éléments de T de deca positions vers la gauche dans R\n",
        "    for j in range(index_debut, m):\n",
        "        if j - deca >= 0:\n",
        "            R[j - deca] = R[j]\n",
        "\n",
        "    # Remplir les dernières cases après décalage avec des zéros\n",
        "    for j in range(m - deca, m):\n",
        "        R[j] = 0"
      ],
      "metadata": {
        "id": "ey7vGMLZNrmn"
      },
      "execution_count": 4,
      "outputs": []
    },
    {
      "cell_type": "markdown",
      "source": [
        "Ensuite, on continue avec la multiplication en ajoutant les sommes partiels."
      ],
      "metadata": {
        "id": "Wfhlqmn-QQMa"
      }
    },
    {
      "cell_type": "markdown",
      "source": [
        "Pseudocode pour la fonction *multiplication_binaire*\n",
        "\n",
        "```\n",
        "Fonction multiplication_binaire(A, B):\n",
        "  Entrée :\n",
        "        A : tableau de n éléments (bits)\n",
        "        B : tableau de n éléments (bits)\n",
        "    Sortie :\n",
        "        C : tableau de 2n éléments (bits)\n",
        "\n",
        "    n ← longueur(A) ▷ Nombre d'éléments dans les tableaux A et B\n",
        "    resPartiel ← tableau de zéros de taille 2n  ▷ Créer un tableau pour le ésultat final de la multiplication\n",
        "    temp ← tableau de zéros de taille 2n  ▷ Initialiser un tableau temporaire pour stocker les résultats intermédiaires\n",
        "\n",
        "    Pour i ← (n - 1) bas 0 faire\n",
        "        si B[i] = 1\n",
        "            copier(A, temp, i) ▷ Copier A dans temp, et décaler A vers la gauche de i bits\n",
        "            resPartiel ← addition_binaire(resPartiel, temp)  \n",
        "        fin si\n",
        "            réinitialiser temp à un tableau de zéros de taille 2n  \n",
        "    fin Pour\n",
        "    \n",
        "    C ← resPartiel\n",
        "    retourner C\n",
        "\n",
        "fin Fonction\n",
        "\n",
        "```"
      ],
      "metadata": {
        "id": "NfX0XzlYPvFz"
      }
    },
    {
      "cell_type": "code",
      "source": [
        "def multiplication_binaire(A, B):\n",
        "    \"\"\"\n",
        "    Multiplie deux nombres binaires représentés par des tableaux de bits A et B.\n",
        "    Retourne un tableau contenant le produit.\n",
        "\n",
        "    entrées\n",
        "    ----------\n",
        "    A : tableau de n éléments (bits)\n",
        "    B : tableau de n éléments (bits)\n",
        "\n",
        "    sorties\n",
        "    ----------\n",
        "    C : tableau de 2n éléments (bits)\n",
        "    \"\"\"\n",
        "\n",
        "    n = len(A)\n",
        "    resPartiel = [0] * (2 * n)  # Créer un tableau de taille 2n pour stocker le résultat final\n",
        "    temp = [0] * (2 * n)  # Tableau temporaire pour stocker les résultats intermédiaires\n",
        "\n",
        "    # Parcourir chaque bit de B de la droite à gauche\n",
        "    for i in range(n-1, -1, -1):\n",
        "\n",
        "      \"\"\"\n",
        "      print(\"i :\", i)\n",
        "      print(\"A[i] :\", A[i])\n",
        "      print(\"B[i] :\", B[i])\n",
        "      \"\"\"\n",
        "\n",
        "      if B[i] == 1:\n",
        "          copier(A, temp, n-1-i)  # Copier A dans temp, décalé de n-1-i positions vers la gauche\n",
        "          # print(\"temp apres copier :\", temp)\n",
        "          resPartiel = addition_binaire(resPartiel, temp) # Ajouter temp à resPartiel\n",
        "          # print(\"resPartiel apres ajout de temp :\", resPartiel)\n",
        "          temp = [0] * (2 * n)  # Réinitialiser temp après chaque addition\n",
        "\n",
        "    # Ici un bloc de code facultatif pour enlever les zéros au début du résultat final\n",
        "    while i < len(resPartiel) and resPartiel[i] == 0:\n",
        "      resPartiel.pop(i)\n",
        "\n",
        "    C = resPartiel\n",
        "    return C"
      ],
      "metadata": {
        "id": "i5TZw9AxOXHT"
      },
      "execution_count": 5,
      "outputs": []
    },
    {
      "cell_type": "markdown",
      "source": [
        "Et voila! ✨ Vous pouvez tester la fonction en roulant quelques exemples."
      ],
      "metadata": {
        "id": "1G8Qw790QXTa"
      }
    },
    {
      "cell_type": "code",
      "source": [
        "# Exemple d'utilisation :\n",
        "n = 3 # Taille des nombres binaires\n",
        "A = generer_nombre_binaire(n)\n",
        "B = generer_nombre_binaire(n)\n",
        "\n",
        "print(\"Longueur des tableaux d'entrées: \", len(A))\n",
        "print(\"A =\", A)\n",
        "print(\"B =\", B)\n",
        "print()\n",
        "\n",
        "C = multiplication_binaire(A, B)\n",
        "print(\"C =\", C)\n",
        "print(\"Longueur de C: \", len(C))"
      ],
      "metadata": {
        "colab": {
          "base_uri": "https://localhost:8080/"
        },
        "id": "C78oIPj2wo7F",
        "outputId": "fdbf2865-bc6c-480f-b5aa-10b12344761d"
      },
      "execution_count": 6,
      "outputs": [
        {
          "output_type": "stream",
          "name": "stdout",
          "text": [
            "Longueur des tableaux d'entrées:  3\n",
            "A = [1, 0, 1]\n",
            "B = [1, 1, 1]\n",
            "\n",
            "C = [1, 0, 0, 0, 1, 1]\n",
            "Longueur de C:  6\n"
          ]
        }
      ]
    },
    {
      "cell_type": "markdown",
      "source": [
        "\n",
        "*c.   Quelle est la complexité de votre algorithme?*\n",
        "\n",
        "* **Complexité en temps** : Le premier passage pour calculer les produits partiels prend O(n$^2$), car pour chaque bit de $B$, nous parcourons les $n$ bits de $A$ et ajoutons les résultats partiels. Le second passage pour gérer les retenues prend O(n) car nous parcourons les $2n$ bits de $C$ pour ajuster les retenues.\n",
        "\n",
        "* **Complexité en espace** : Le tableau $C$ est de taille $2n$, donc l'algorithme utilise O(n) espace."
      ],
      "metadata": {
        "id": "wx166QY09qnS"
      }
    },
    {
      "cell_type": "markdown",
      "source": [
        "## **Exercice 3**\n",
        "Quelle est la plus grande valeur de $n$ telle qu’un algorithme dont le temps d’exécution est $100n^2$ prenne plus de temps qu’un algorithme dont le temps d’exécution est $2^n$?"
      ],
      "metadata": {
        "id": "7qHpa2xDMATS"
      }
    },
    {
      "cell_type": "markdown",
      "source": [
        "\n",
        "*Solution* :\n",
        "\n",
        "La question posée revient à trouver la plus grande valeur de $n$ telle que $100n^2 > 2n$. Pour trouver cette valeur de $n$, on peut adopter une approche \"dichotomique\" en illustrant la croissance des deux fonctions avec quelques valeurs:   \n",
        "\n",
        "|          | 1   | 2   | 5     | 10     | 15     | 20        |\n",
        "|----------|-----|-----|-------|--------|--------|-----------|\n",
        "| $100n^2$ | 100 | 400 | 2,500 | 10,000 | 22,500 | 40,000    |\n",
        "| $2^n$    | 2   | 4   | 32    | 1,024  | 32,768 | 1,048,576 |\n",
        "\n",
        "\n",
        "Si $n$ est égal à 10, 100$n^2$ est égal à 10000 tandis que $2^n$ est égal à 1024. Si $n$ est égal à 20, 100$n^2$ est égal à 40000 et $2^n$ est supérieur à $10^6$. La valeur cherchée est donc comprise entre 10 et 19. Lorsque $n$ est égal à 15, 100$n^2$ (qui est égal à 22500) est plus petit que 32000, et donc plus petit que $2^n$, mais les deux valeurs sont proches l’une de l’autre. On peut donc penser que la bonne réponse est 14, et c’est bien le cas, puisque $100 × 14^2$ est égal à 19600 et $2^{14}$ à 16384."
      ],
      "metadata": {
        "id": "jbePp5YQojgk"
      }
    },
    {
      "cell_type": "markdown",
      "source": [
        "\n",
        "On peut aussi visualiser la réponse graphiquement. La librairie **sympy** est utilisé pour définir des expressions symboliques. La fonction\n",
        "**lambdify** convertit les expressions symboliques en fonctions évaluables numériquement avec numpy. **matplotlib** est utilisé pour tracer les fonctions dans un graphique."
      ],
      "metadata": {
        "id": "9uoUcdpUqKmO"
      }
    },
    {
      "cell_type": "code",
      "source": [
        "import sympy as sp\n",
        "import numpy as np\n",
        "import matplotlib.pyplot as plt\n",
        "\n",
        "# Définir la variable symbolique\n",
        "x = sp.symbols('x')\n",
        "\n",
        "# Définir les expressions symboliques (vous pouvez modifier ou ajouter d'autres fonctions ici)\n",
        "fonctions = [\n",
        "    100 * x**2,              # Fonction 100n^2\n",
        "    2**x                     # Fonction 2^n\n",
        "]\n",
        "\n",
        "# Noms des fonctions pour les étiquettes\n",
        "noms_fonctions = [\n",
        "    'O(100n^2)',                # Étiquette pour 100n^2\n",
        "    'O(2^n)'                    # Étiquette pour 2^n\n",
        "]\n",
        "\n",
        "# Générer des données numériques pour le tracé\n",
        "x_vals = np.linspace(1, 18, 100)\n",
        "plots = []\n",
        "\n",
        "# Tracer chaque fonction\n",
        "plt.figure(figsize=(10, 6))\n",
        "\n",
        "for i, fonction in enumerate(fonctions):\n",
        "    try:\n",
        "        # Créer une version numérique de l'expression symbolique\n",
        "        f_lambdified = sp.lambdify(x, fonction, modules=['numpy'])\n",
        "\n",
        "        # Évaluer la fonction pour les valeurs de x\n",
        "        y_vals = f_lambdified(x_vals)\n",
        "\n",
        "        # Tracer la fonction\n",
        "        plt.plot(x_vals, y_vals, label=noms_fonctions[i])\n",
        "\n",
        "    except Exception as e:\n",
        "        print(f\"Erreur lors du tracé de {noms_fonctions[i]} : {e}\")\n",
        "\n",
        "# Ajouter un titre et des étiquettes\n",
        "plt.title('Compléxité de temps')\n",
        "plt.xlabel(\"Nombre d'éléments (n)\")\n",
        "plt.ylabel(\"Nombre d'opérations f(n)\")\n",
        "plt.axhline(0, color='black', linewidth=0.5)\n",
        "plt.axvline(0, color='black', linewidth=0.5)\n",
        "\n",
        "# Personnaliser les espacements des marques de graduation sur l'axe des x\n",
        "plt.xticks(np.arange(1, 19, 1))  # Ajustez le pas selon vos besoins\n",
        "\n",
        "# Ajouter une légende au graphique\n",
        "plt.legend()\n",
        "\n",
        "# Afficher le graphique\n",
        "plt.grid(True)\n",
        "plt.show()"
      ],
      "metadata": {
        "colab": {
          "base_uri": "https://localhost:8080/",
          "height": 565
        },
        "id": "7BbbqlRJW5nY",
        "outputId": "2c8e7fdb-705a-4b0b-d7cf-59bb251ccc89"
      },
      "execution_count": 7,
      "outputs": [
        {
          "output_type": "display_data",
          "data": {
            "text/plain": [
              "<Figure size 1000x600 with 1 Axes>"
            ],
            "image/png": "[encoded data removed]"
          },
          "metadata": {}
        }
      ]
    },
    {
      "cell_type": "markdown",
      "source": [
        "On peut voir très bien que les deux fonctions se croisent quand $n$ est environ égal à **14** ($\\approx$ 14.32) !"
      ],
      "metadata": {
        "id": "9UK-NQl8e2mO"
      }
    },
    {
      "cell_type": "markdown",
      "source": [
        "## **Exercice 4**\n",
        "Soit $T$ un tableau de nombres entiers dont les indices sont compris entre 1 et $n$. Écrivez une fonction qui retourne la valeur VRAI si les éléments de $T$ sont tous distincts et la valeur FAUX dans le cas contraire. La complexité de votre fonction doit être plus petite que $n^2$."
      ],
      "metadata": {
        "id": "9KOR0t8ncE1m"
      }
    },
    {
      "cell_type": "markdown",
      "source": [
        "\n",
        "L'idée est de partir de l'algorithme ***Tri-Fusion*** (Merge Sort) pour trier d'abord le tableau. TriFusion est un algorithme de tri diviser-pour-régner qui utilise une approche récursive. Il divise la liste ou le tableau à trier en sous-listes, trie chaque sous-liste, puis fusionne les sous-listes triées pour former une seule liste triée. Les 3 étapes principales de l'algorithme sont:\n",
        "\n",
        "1.   **Diviser :**\n",
        "Si le tableau contient plus d'un élément, on le divise en deux moitiés à peu près égales.\n",
        "On applique ensuite récursivement l'algorithme de TriFusion sur chaque sous-tableau.\n",
        "\n",
        "2. **Trier :**\n",
        "Si une sous-liste contient un seul élément, elle est déjà triée.\n",
        "Si une sous-liste contient plusieurs éléments, elle est divisée à nouveau jusqu'à ce qu'on obtienne des sous-listes d'un seul élément.\n",
        "\n",
        "3.   **Fusionner :**\n",
        "Une fois les sous-listes divisées en éléments unitaires, on les fusionne deux à deux. La fusion se fait en comparant les éléments des deux sous-listes et en les réorganisant dans un ordre trié.\n",
        "\n",
        "L'animation ci-dessous montre l'exécution de l'algo avec un tableau de 8 chiffres:"
      ],
      "metadata": {
        "id": "bfQwS6qTdq4f"
      }
    },
    {
      "cell_type": "code",
      "source": [
        "from IPython.display import Image\n",
        "Image(url='https://upload.wikimedia.org/wikipedia/commons/c/cc/Merge-sort-example-300px.gif')"
      ],
      "metadata": {
        "colab": {
          "base_uri": "https://localhost:8080/",
          "height": 201
        },
        "id": "VJotllSjyPTz",
        "outputId": "c17ba80e-eb6a-476e-dc76-ef7ade140b21"
      },
      "execution_count": 8,
      "outputs": [
        {
          "output_type": "execute_result",
          "data": {
            "text/html": [
              "<img src=\"https://upload.wikimedia.org/wikipedia/commons/c/cc/Merge-sort-example-300px.gif\"/>"
            ],
            "text/plain": [
              "<IPython.core.display.Image object>"
            ]
          },
          "metadata": {},
          "execution_count": 8
        }
      ]
    },
    {
      "cell_type": "markdown",
      "source": [
        "Pseudocode pour la procédure *Fusionner*\n",
        "\n",
        "```\n",
        "Procédure fusionner(tab, debut, fin1, fin2, temp)\n",
        "\n",
        "Entrée :\n",
        "   - tab : tableau indicé de 1 à n (inclus)\n",
        "   - debut, fin1, fin2 : indices entre 1 et n\n",
        "Sortie :\n",
        "   - temp : tableau indicé de 1 à n (inclus), fusion de tab[debut..fin1] et tab[fin1+1..fin2]\n",
        "\n",
        "Début\n",
        "   i ← debut   \n",
        "   j ← fin1 + 1  \n",
        "\n",
        "   Pour k ← debut à fin2 faire  \n",
        "      Si i ≤ fin1 et (j > fin2 ou tab[i] < tab[j]) alors\n",
        "         temp[k] ← tab[i]\n",
        "         i ← i + 1\n",
        "      Sinon\n",
        "         temp[k] ← tab[j]\n",
        "         j ← j + 1\n",
        "      FinSi\n",
        "   FinPour\n",
        "FinProcédure\n",
        "\n",
        "```\n",
        "\n"
      ],
      "metadata": {
        "id": "HFikJNPwKqet"
      }
    },
    {
      "cell_type": "code",
      "source": [
        "def fusionner(tab, debut, fin1, fin2, temp):\n",
        "    \"\"\"\n",
        "    Fusionne deux sous-tableaux triés dans un tableau temporaire.\n",
        "\n",
        "    Paramètres :\n",
        "    tab (list) : Le tableau source contenant les éléments à fusionner.\n",
        "    debut (int) : Indice de début du premier sous-tableau.\n",
        "    fin1 (int) : Indice de fin du premier sous-tableau.\n",
        "    fin2 (int) : Indice de fin du second sous-tableau.\n",
        "    temp (list) : Le tableau temporaire qui contiendra la fusion des deux sous-tableaux.\n",
        "    \"\"\"\n",
        "\n",
        "    i = debut  # Initialiser i à l'indice de début du premier sous-tableau\n",
        "    j = fin1 + 1  # Initialiser j à l'indice de début du second sous-tableau (fin1 + 1)\n",
        "\n",
        "    # Boucle pour parcourir de debut à fin2 inclus\n",
        "    for k in range(debut, fin2 + 1):\n",
        "\n",
        "        # Si i est encore dans les limites du premier sous-tableau et que\n",
        "        # j est hors limites ou bien que tab[i] est plus petit que tab[j]\n",
        "        if i <= fin1 and (j > fin2 or tab[i] < tab[j]):\n",
        "\n",
        "            temp[k] = tab[i]  # Copier l'élément du premier sous-tableau dans temp\n",
        "            i += 1  # Avancer l'indice du premier sous-tableau\n",
        "        else:\n",
        "            temp[k] = tab[j]  # Copier l'élément du second sous-tableau dans temp\n",
        "            j += 1  # Avancer l'indice du second sous-tableau"
      ],
      "metadata": {
        "id": "fYx0nqCQO2HU"
      },
      "execution_count": 9,
      "outputs": []
    },
    {
      "cell_type": "markdown",
      "source": [
        "Pseudocode pour l'algorithme de *TriFusion*\n",
        "\n",
        "```\n",
        "Procédure triFusion(tab, bi, bs)\n",
        "    Entrée :\n",
        "      tab : tableau indicé de 1 à n incl.\n",
        "      bi, bs : indices entre 1 et n\n",
        "\n",
        "    Sortie :\n",
        "      tab : tableau indicé de 1 à n incl., trié\n",
        "\n",
        "Début\n",
        "    Si bi < bs alors   ▷ Si la portion à trier a plus d'un élément\n",
        "        milieu ← (bi + bs) / 2   ▷ Calcul du milieu du tableau\n",
        "\n",
        "        ▷ Appels récursifs pour trier chaque moitié\n",
        "        triFusion(tab, bi, milieu)\n",
        "        triFusion(tab, milieu + 1, bs)\n",
        "\n",
        "        ▷ Fusionner les deux moitiés triées\n",
        "        fusionner(tab, bi, milieu, bs, tabTemp)\n",
        "\n",
        "        ▷ Copier le contenu de tabTemp dans tab\n",
        "        Pour i ← bi à bs faire\n",
        "            tab[i] ← tabTemp[i]\n",
        "        Fin Pour\n",
        "    Fin Si\n",
        "Fin Procédure\n",
        "```\n"
      ],
      "metadata": {
        "id": "k-m_NJkVzsnN"
      }
    },
    {
      "cell_type": "code",
      "source": [
        "def triFusion(tab, bi, bs):\n",
        "    \"\"\"\n",
        "    Tri un tableau en utilisant l'algorithme de tri par fusion.\n",
        "\n",
        "    Paramètres :\n",
        "    tab (list) : Le tableau à trier.\n",
        "    bi (int) : Indice de début de la portion du tableau à trier.\n",
        "    bs (int) : Indice de fin de la portion du tableau à trier.\n",
        "\n",
        "    Sortie :\n",
        "    tab est trié entre les indices bi et bs.\n",
        "    \"\"\"\n",
        "\n",
        "    if bi < bs:  # Si la portion à trier contient plus d'un élément\n",
        "        milieu = (bi + bs) // 2  # Calculer le milieu du tableau\n",
        "\n",
        "        # Appels récursifs pour trier chaque moitié\n",
        "        triFusion(tab, bi, milieu)\n",
        "        triFusion(tab, milieu + 1, bs)\n",
        "\n",
        "        # Tableau temporaire pour la fusion\n",
        "        tabTemp = tab.copy()\n",
        "\n",
        "        # Fusionner les deux moitiés triées\n",
        "        fusionner(tab, bi, milieu, bs, tabTemp)\n",
        "\n",
        "        # Copier le contenu de tabTemp dans tab\n",
        "        for i in range(bi, bs + 1):\n",
        "            tab[i] = tabTemp[i]"
      ],
      "metadata": {
        "id": "xJkanKTin8Ip"
      },
      "execution_count": 10,
      "outputs": []
    },
    {
      "cell_type": "code",
      "source": [
        "# Exemple de tri d'un tableau avec triFusion\n",
        "tab = [38, 27, 43, 3, 9, 82, 10]\n",
        "triFusion(tab, 0, len(tab) - 1)\n",
        "print(tab)  # Affiche le tableau trié"
      ],
      "metadata": {
        "colab": {
          "base_uri": "https://localhost:8080/"
        },
        "id": "voZplw94Kdxr",
        "outputId": "22e5e0fe-5add-4554-cbe0-9aad3561c75a"
      },
      "execution_count": 11,
      "outputs": [
        {
          "output_type": "stream",
          "name": "stdout",
          "text": [
            "[3, 9, 10, 27, 38, 43, 82]\n"
          ]
        }
      ]
    },
    {
      "cell_type": "markdown",
      "source": [
        " Une fois trié, il est facile de vérifier si les éléments consécutifs sont identiques. On vérifie si l'élément d'avant $T[i - 1]$ est égal à l'élément courant $T[i]$."
      ],
      "metadata": {
        "id": "xHI0H7h0rbBr"
      }
    },
    {
      "cell_type": "code",
      "source": [
        "def elements_distincts(T):\n",
        "    # Tri du tableau avec l'algorithme de Tri-Fusion\n",
        "    triFusion(T)\n",
        "\n",
        "    # Vérifier si deux éléments consécutifs sont identiques\n",
        "    for i in range(1, len(T)):\n",
        "        if T[i] == T[i - 1]:\n",
        "            return False\n",
        "\n",
        "    # Si aucun doublon n'a été trouvé, tous les éléments sont distincts\n",
        "    return True"
      ],
      "metadata": {
        "id": "SO7huLvBrLVR"
      },
      "execution_count": 12,
      "outputs": []
    },
    {
      "cell_type": "markdown",
      "source": [
        "Un petit test...."
      ],
      "metadata": {
        "id": "rM76Rj0SRrSS"
      }
    },
    {
      "cell_type": "code",
      "source": [
        "T = [3, 1, 4, 2, 5]\n",
        "print(elements_distincts(T))  # Renvoie True, car tous les éléments sont distincts\n",
        "\n",
        "T = [3, 1, 4, 2, 3]\n",
        "print(elements_distincts(T))  # Renvoie False, car l'élément 3 apparaît deux fois"
      ],
      "metadata": {
        "colab": {
          "base_uri": "https://localhost:8080/"
        },
        "id": "tEy69B9lRp1a",
        "outputId": "e99a3244-a058-4795-da4a-e5f29f447437"
      },
      "execution_count": 15,
      "outputs": [
        {
          "output_type": "stream",
          "name": "stdout",
          "text": [
            "True\n",
            "False\n"
          ]
        }
      ]
    },
    {
      "cell_type": "markdown",
      "source": [
        "**Complexité en temps :**\n",
        "\n",
        "*   Le tri-fusion a une complexité de O($n\\log⁡n$).\n",
        "*   La vérification des doublons prend O($n$).\n",
        "*   Ainsi, la complexité globale est ($n\\log⁡n$ + $n$), donc O($n\\log⁡n$), ce qui est conforme à la contrainte demandée."
      ],
      "metadata": {
        "id": "CiXl1LLPrzvl"
      }
    },
    {
      "cell_type": "markdown",
      "source": [
        "⭐ *Bonus* ⭐\n",
        "\n",
        "On peut même faire encore mieux... Pour vérifier si tous les éléments d'un tableau $T$ sont distincts avec une complexité inférieure à O($n^2$), nous pouvons utiliser une approche basée sur les ensembles (**sets**). Un ensemble est, par définition, une collection d'objets *distincts*.  L'idée est de parcourir les éléments du tableau une seule fois et de vérifier si chaque élément a déjà été vu.\n",
        "\n",
        "\n",
        "Voici une solution avec une complexité temporelle de O($n$), où $n$ est la taille du tableau, en utilisant un ensemble pour stocker les éléments uniques rencontrés au fur et à mesure."
      ],
      "metadata": {
        "id": "SffZDgXqn8gw"
      }
    },
    {
      "cell_type": "code",
      "source": [
        "def elements_distincts(T):\n",
        "    # Utilisation d'un ensemble pour stocker les éléments uniques\n",
        "    vus = set()\n",
        "\n",
        "    # Parcourir tous les éléments du tableau\n",
        "    for element in T:\n",
        "        # Si l'élément est déjà dans l'ensemble, ce n'est pas distinct\n",
        "        if element in vus:\n",
        "            return False\n",
        "        # Sinon, on l'ajoute à l'ensemble\n",
        "        vus.add(element)\n",
        "\n",
        "    # Si tous les éléments sont uniques, retourner VRAI\n",
        "    return True"
      ],
      "metadata": {
        "id": "zcv-BKnGohgx"
      },
      "execution_count": 13,
      "outputs": []
    },
    {
      "cell_type": "code",
      "source": [
        "T = [2, 1, 4, 7, 5]\n",
        "print(elements_distincts(T))  # Renvoie True, car tous les éléments sont distincts\n",
        "\n",
        "T = [3, 1, 4, 4, 3]\n",
        "print(elements_distincts(T))  # Renvoie False, car l'élément 3 apparaît deux fois\n"
      ],
      "metadata": {
        "id": "0PiyPr5Vonhh",
        "colab": {
          "base_uri": "https://localhost:8080/"
        },
        "outputId": "1dcfd166-0b81-436a-e783-36f38c42cc62"
      },
      "execution_count": 18,
      "outputs": [
        {
          "output_type": "stream",
          "name": "stdout",
          "text": [
            "True\n",
            "False\n"
          ]
        }
      ]
    },
    {
      "cell_type": "markdown",
      "source": [
        "**Complexité en temps :**\n",
        "\n",
        "*   Nous parcourons chaque élément du tableau une seule fois, donc la complexité de la boucle est O($n$).\n",
        "*   L'insertion et la vérification d'existence dans un ensemble se font en temps constant O(1) en moyenne.\n",
        "*   Cela donne une complexité globale de O($n$), ce qui est inférieur à O($n^2$).\n",
        "\n"
      ],
      "metadata": {
        "id": "ud_BAipioqvJ"
      }
    }
  ]
}