{
  "nbformat": 4,
  "nbformat_minor": 0,
  "metadata": {
    "colab": {
      "provenance": []
    },
    "kernelspec": {
      "name": "python3",
      "display_name": "Python 3"
    },
    "language_info": {
      "name": "python"
    }
  },
  "cells": [
    {
      "cell_type": "markdown",
      "source": [
        "\n",
        "# Démonstration 5\n",
        "\n",
        "* Mercredi le 16 Octobre 2024\n",
        "* 9h30-11h30, SH-3620 | Campus de Montréal\n",
        "* Présenté par Amanda Boatswain Jacques\n",
        "\n",
        "\n",
        "&nbsp;  \n",
        "\n",
        "*Note* : Le pseudocode, les exemples codés et quelques portions des explications ont été générés par ChatGPT. Cependant, la version finale des programmes (**Attention:** parfois ChatGPT me générait des trucs qui ne fonctionnaient pas ou qui n'étaient pas corrects!!!), ainsi que le texte ont été retouchés par moi. Finalement, j'ai modifié le pseudocode de chaque algorithme pour correspondre aux conventions de pseudocode présentés par le prof. 😃\n"
      ],
      "metadata": {
        "id": "70kxoayiDizG"
      }
    },
    {
      "cell_type": "markdown",
      "source": [
        "## **Exercice 1**\n",
        "\n",
        "Un tableau de taille $n$, dont les indices vont de 0 à $n − 1$, contient tous les nombres entiers de 0 à $n$ sauf un nombre. Les éléments du tableau sont triés de façon croissante. Le problème consiste à trouver l’entier qui n’est pas dans le tableau (un nombre entre 0 et $n$). Voici quelques exemples:\n",
        "\n",
        "\n"
      ],
      "metadata": {
        "id": "VBVmjUrsIW5w"
      }
    },
    {
      "cell_type": "markdown",
      "source": [
        "<div align=\"center\">\n",
        "\n",
        "| n  | tableau               | entier manquant |\n",
        "|----|-----------------------|-----------------|\n",
        "| 5  | [0, 1, 3, 4, 5]       | 2               |\n",
        "| 5  | [1, 2, 3, 4, 5]       | 0               |\n",
        "| 7  | [0, 1, 2, 3, 4, 5, 6] | 7               |\n",
        "| 8  | [0, 1, 2, 3, 5, 6, 7, 8] | 7            |\n",
        "\n",
        "</div>"
      ],
      "metadata": {
        "id": "NEl5u-KYzuoy"
      }
    },
    {
      "cell_type": "markdown",
      "source": [
        "Voici un algorithme qui résout ce problème:\n",
        "\n",
        "```\n",
        "1: fonction entierManquant(Tab : tableau trié) : entier\n",
        "2:     reponse ← 0\n",
        "3:     n ← taille(Tab)      \n",
        "4:     si Tab[0] = 0 alors\n",
        "5:         i ← 1            \n",
        "6:         trouver ← Faux    ▷ Variable de contrôle pour trouver l'entier manquant     \n",
        "7:         tant que i < n et ¬trouver faire ▷ Boucle tant qu'on n'a pas trouvé l'entier manquant\n",
        "8:             si i = Tab[i] alors\n",
        "9:                i ← i + 1  ▷ Incrémenter l'indice si l'élément à l'indice est correct\n",
        "10:            sinon\n",
        "11:                trouver ← Vrai ▷ Marquer que l'on a trouvé un écart\n",
        "12:            fin si\n",
        "13:        fin tant que   \n",
        "14:        reponse ← i  ▷ L'entier manquant est l'indice où l'écart a été trouvé\n",
        "15:    fin si\n",
        "16:    retourner reponse  \n",
        "17: fin fonction\n",
        "```\n",
        "\n"
      ],
      "metadata": {
        "id": "ZAOrGS1UJ62b"
      }
    },
    {
      "cell_type": "markdown",
      "source": [
        "(a) Pour $n \\geq 1 $ fixé, combien d’exemplaires ou d’instances du problème existe-t-il? Vous devez obtenir une formule en fonction de $n$.\n",
        "\n",
        "**Réponse :**\n",
        "\n",
        "Prenons quelques exemples pour illustrer les cas possibles. On prend note des 3 charactérisques principales de l'entrée:\n",
        "\n",
        "1. Le tableau est indexé de 0 à $n-1$.\n",
        "2. Le tableau est trié en ordre croissant.\n",
        "3. Il y a un chiffre manquant dans la série.  "
      ],
      "metadata": {
        "id": "HmQvcUdx36tF"
      }
    },
    {
      "cell_type": "markdown",
      "source": [
        "Dans le premier cas, on considère un problème de taille $n = 5$.  Ici, il existe **6 instances** possibles du problème.\n",
        "\n",
        "&nbsp;  \n",
        "<img src=\"https://raw.githubusercontent.com/AmandaBoatswain/INF5130/refs/heads/main/figures/demo5_exercice_1fig1.png\" />"
      ],
      "metadata": {
        "id": "peZpR93ecE-N"
      }
    },
    {
      "cell_type": "markdown",
      "source": [
        "Dans le deuxième cas, on considère un problème de taille $n = 3$.  Ici, il existe **4 instances** possibles du problème.\n",
        "\n",
        "&nbsp;  \n",
        "<img src=\"https://raw.githubusercontent.com/AmandaBoatswain/INF5130/refs/heads/main/figures/demo5_exercice_1fig2.png\" />\n",
        "\n",
        "Le tableau peut contenir tous les nombres de 0 à $n$ sauf un nombre, donc pour chaque nombre manquant de $0,1,...,n$ nous avons une instance possible. Autrement dit, on a $n+1$ instances possibles de ce problème."
      ],
      "metadata": {
        "id": "ZiFz1zrveHn0"
      }
    },
    {
      "cell_type": "markdown",
      "source": [
        "(b) Identifiez une instruction ou opération barométrique\n",
        "\n",
        "**Réponse:** Une opération barométrique est une opération qui est exécutée au moins aussi souvent que toute autre instruction ou opération dans un algorithme donné. Cette opération est souvent utilisée comme une référence pour mesurer la complexité temporelle d'un algorithme. En d'autres termes, on choisit cette opération comme indicateur pour évaluer combien de fois elle est exécutée en fonction de la taille de l'entrée $(n)$. Deux exemples d'opérations barométriques sont la comparaison de la ligne 7 ou celle de la ligne 8.\n"
      ],
      "metadata": {
        "id": "qwzHekq64K0-"
      }
    },
    {
      "cell_type": "markdown",
      "source": [
        "(c) Faites l’analyse de l’algorithme décrit plus haut en utilisant (b).\n",
        "\n",
        "1. Donnez le temps dans le pire cas puis dans le meilleur cas. Vous obtiendrez des expressions en fonction de $n$.\n",
        "2. Donnez ensuite la complexité temporelle du meilleur et du pire cas avec la notation $Θ$.\n",
        "3. Donnez l’allure du tableau dans le meilleur cas et l’allure du tableau dans le pire cas et ce, peu importe la valeur de $n$. Vous devez donner les étapes de vos calculs.\n",
        "\n",
        "**Réponse :**\n",
        "\n",
        "Soit T(n) le temps d’exécution de `entierManquant` où $n$ est la taille de $Tab$.\n",
        "1. Pire cas : $T(n) = n$, c’est quand $n$ est manquant. Meilleur cas : $T(n) =$ constante, c’est quand 0 est manquant.\n",
        "2. Pire cas : complexité dans $Θ(n)$. Meilleur cas : complexité dans $Θ(1)$.\n",
        "3. Pire cas : complexité tableau de la forme $[0,1,2,...,n − 1]$ ($n$ manquant). Meilleur cas : complexité tableau de la forme $[1,2,...,n]$ (0 manquant).  \n"
      ],
      "metadata": {
        "id": "6F5NKL-34SNk"
      }
    },
    {
      "cell_type": "markdown",
      "source": [
        "(d) Supposons que $n \\geq 1 $ (au moins deux éléments dans le tableau). Supposons aussi que la condition $Tab[0] = 0$ soit vraie. Quel est le nombre minimal d’itérations de la boucle tant que pour toute valeur de $n$? Justifiez votre réponse. Donnez l’allure générale du tableau dans ce cas.\n",
        "\n",
        "**Réponse :** Si 0 n’est pas manquant, alors c’est 1 qui doit manquer pour avoir le nombre minimal d’itérations. Ainsi, 1 est le nombre minimal d’itérations et le tableau aura la forme $[0, 2, . . . , n]$ (1 manquant).\n"
      ],
      "metadata": {
        "id": "D41lkcVx4yG8"
      }
    },
    {
      "cell_type": "markdown",
      "source": [
        "(e) Trouvez un algorithme **plus efficace** que celui donné plus haut, dans le pire cas. Donnez le pseudo-code de votre algorithme. Donnez la complexité temporelle de votre algorithme avec la notation $Θ$.\n",
        "\n",
        "Suggestion : appliquez le principe « *Diviser pour régner* ».\n",
        "\n",
        "**Réponse :**\n",
        "\n",
        "Explication de l'algorithme :\n",
        "1.\t**Fonction récursive `entierManquant` :**\n",
        "La fonction prend en entrée un tableau trié $Tab$, les indices de début $BI$ et de fin $BS$.\n",
        "Elle divise le tableau en deux parties en calculant le milieu, puis elle vérifie si l'entier manquant se situe dans la moitié gauche ou droite en comparant les indices.\n",
        "2.\t**Cas de base :**\n",
        "Si l'intervalle contient un seul élément ($BI=BS$), la fonction vérifie si cet élément est à sa position attendue. Si oui, l'entier manquant est juste après cet élément, sinon c'est à cet emplacement.\n",
        "3.\t**Appel récursif :**\n",
        "Si l'élément à la position milieu est supérieur à milieu, cela signifie que l'entier manquant est dans la partie gauche du tableau. Sinon, il est dans la partie droite.\n",
        "\n",
        "\n",
        "```\n",
        "1: fonction entierManquant(Tab : tableau trié, BI, BS : indices) : entier\n",
        "2:     si BI = BS alors                                  ▷ Cas de base : un seul élément à comparer\n",
        "3:         si BI = Tab[BI] alors                         ▷ Si l'élément est à sa position attendue\n",
        "4:             retourner BI + 1                          ▷ L'entier manquant est après\n",
        "5:         sinon\n",
        "6:             retourner BI                              ▷ L'entier manquant est ici\n",
        "7:         fin si\n",
        "8:     sinon\n",
        "9:         milieu ← (BI + BS) ÷ 2                        \n",
        "10:        si milieu < Tab[milieu] alors                 ▷ Si l'élément au milieu est plus grand que sa position attendue\n",
        "11:            retourner entierManquant(Tab, BI, milieu) ▷ Rechercher dans la moitié gauche\n",
        "12:        sinon\n",
        "13:            retourner entierManquant(Tab, milieu + 1, BS)  ▷ Rechercher dans la moitié droite\n",
        "14:        fin si\n",
        "15:    fin si\n",
        "16: fin fonction\n",
        "\n",
        "```\n",
        "\n",
        "**Complexité temporelle :**\n",
        "Comme l'algorithme utilise une recherche dichotomique (diviser pour régner), il divise le tableau en deux parties à chaque étape. Cela entraîne une complexité de $O(\\log n)$, car la taille du sous-problème est divisée par 2 à chaque appel récursif.\n",
        "\n",
        "&nbsp;  \n",
        "Voici une implémentation de la fonction en Python:"
      ],
      "metadata": {
        "id": "cvXPFUA74-O8"
      }
    },
    {
      "cell_type": "code",
      "source": [
        "def entierManquant(Tab, BI, BS):\n",
        "    # Cas de base : si l'intervalle contient un seul élément\n",
        "    if BI == BS:\n",
        "        if Tab[BI] == BI:\n",
        "            return BI + 1  # Si l'élément est à sa position attendue, l'entier manquant est après\n",
        "        else:\n",
        "            return BI  # Sinon, l'entier manquant est à cette position\n",
        "    else:\n",
        "        # Calculer la position du milieu\n",
        "        milieu = (BI + BS) // 2\n",
        "\n",
        "        # Si la valeur à l'indice \"milieu\" est plus grande que \"milieu\"\n",
        "        if Tab[milieu] > milieu:\n",
        "            return entierManquant(Tab, BI, milieu)  # Chercher dans la moitié gauche\n",
        "        else:\n",
        "            return entierManquant(Tab, milieu + 1, BS)  # Chercher dans la moitié droite"
      ],
      "metadata": {
        "id": "GcbysPgn2LtN"
      },
      "execution_count": null,
      "outputs": []
    },
    {
      "cell_type": "code",
      "source": [
        "# Exemple d'utilisation :\n",
        "Tab = [0, 1, 2, 3, 4, 5]  # Tableau trié avec l'entier 3 manquant\n",
        "n = len(Tab)\n",
        "print(\"L'entier manquant est :\", entierManquant(Tab, 0, n - 1))"
      ],
      "metadata": {
        "colab": {
          "base_uri": "https://localhost:8080/"
        },
        "id": "T3lPYdgg2OFs",
        "outputId": "44228242-3d48-4836-95d0-e1f0ef6bda1f"
      },
      "execution_count": null,
      "outputs": [
        {
          "output_type": "stream",
          "name": "stdout",
          "text": [
            "L'entier manquant est : 6\n"
          ]
        }
      ]
    },
    {
      "cell_type": "markdown",
      "source": [
        "## **Exercice 2**\n",
        "\n",
        "Soit $Tab$ un tableau, d’un type de données `Objet`, dont les indices sont compris entre 1 et $n$. Nous voulons résoudre le problème qui consiste à déterminer s’il existe une valeur $x$ telle que:\n",
        "\n",
        "<div align=\"center\">\n",
        "$\\left| \\{ i \\mid Tab[i] = x \\} \\right| \\geq \\frac{n}{2}$\n",
        "</div>"
      ],
      "metadata": {
        "id": "ate_LW6xbbfM"
      }
    },
    {
      "cell_type": "markdown",
      "source": [
        "(a) Décrivez un algorithme dans $O(n\\log(n))$ qui résout ce problème, si on considère `Objet` comme étant l'*entier* (donc $Tab$ est un tableau d’entiers).\n",
        "&nbsp;  \n",
        "\n",
        "**Réponse :** L'expression demande de vérifier s'il existe une valeur $x$ dans le tableau qui apparaît dans au moins la moitié des positions du tableau. Pour résoudre ce problème, on peut d'abord trier le tableau, puis ensuite vérifier si une valeur $x$ apparaît au moins $\\frac{n}{2}$ fois consécutivement. Le tri prend $O(n \\log n)$ et la vérification prend $O(n)$.\n",
        "\n",
        "1.\t**Tri du tableau :** L'algorithme commence par trier le tableau Tab avec l'algorithme de tri fusion Le tri est nécessaire pour regrouper les éléments identiques et permettre une recherche efficace. La complexité du tri fusion est $O(n \\log n)$.\n",
        "2.\t**Choix de la médiane :** Ensuite, l'algorithme sélectionne la médiane du tableau trié, c'est-à-dire l'élément à la position $\\lfloor \\frac{n + 1}{2} \\rfloor$. La médiane est choisie parce que si un élément $x$ apparaît plus de $\\frac{n}{2}$ fois, il doit forcément occuper la position centrale du tableau trié.\n",
        "3.\t**Compter les occurrences de la médiane :** La variable `compteur` est assigné à 1 parce que l'élément situé à la médiane est automatiquement compté. Ensuite, l'algorithme parcourt le tableau dans deux directions :\n",
        "      * \tVers la gauche (du centre vers le début du tableau) pour compter les occurrences de $x$.\n",
        "      * \tVers la droite (du centre vers la fin du tableau) pour également compter les occurrences de $x$.\n",
        "4.\t**Retourner le résultat :** Une fois toutes les occurrences de $x$ comptées, l'algorithme vérifie si $x$ apparaît plus de $\\frac{n}{2}$ fois. Si c'est le cas, il retourne VRAI, sinon il retourne FAUX.\n",
        "\n",
        "\n",
        "```\n",
        "1: fonction EXISTEMAJORITAIRE(Tab : tableau) : booléen\n",
        "2:     TRIEFUSION(Tab)                       ▷ On trie le tableau en utilisant un tri fusion\n",
        "3:     x ← Tab[⌊ (n + 1) / 2 ⌋]               ▷ x prend la valeur médiane du tableau (élément au milieu)\n",
        "4:     compteur ← 1                           \n",
        "5:     i ← ⌊ (n + 1) / 2 ⌋ - 1                ▷ Initialiser l'indice à la position juste avant la médiane\n",
        "6:     tant que i ≥ 1 et Tab[i] = x faire    ▷ Parcourir les éléments avant la médiane pour voir combien de fois x apparaît\n",
        "7:         compteur ← compteur + 1           ▷ Incrémenter le compteur si Tab[i] est égal à x\n",
        "8:         i ← i - 1                         ▷ Décrémenter l'indice pour remonter dans le tableau\n",
        "9:     fin tant que\n",
        "10:    i ← ⌊ (n + 1) / 2 ⌋ + 1                ▷ Initialiser i juste après la médiane\n",
        "11:    tant que i ≤ n et Tab[i] = x faire    ▷ Parcourir les éléments après la médiane pour voir combien de fois x apparaît\n",
        "12:        compteur ← compteur + 1           ▷ Incrémenter le compteur si Tab[i] est égal à x\n",
        "13:        i ← i + 1                         ▷ Incrémenter l'indice pour avancer dans le tableau\n",
        "14:    fin tant que\n",
        "15:    retourner compteur > n / 2              \n",
        "16: fin fonction\n",
        "```\n",
        "\n",
        "**Complexité :**\n",
        "* Le tri prend $O(n \\log n)$.\n",
        "* La phase de comptage prend $O(n)$, car elle parcourt tout le tableau.\n",
        "\n",
        "La complexité globale de l'algorithme est donc $O(n \\log n)$, ce qui est conforme à l'exigence du problème.\n"
      ],
      "metadata": {
        "id": "DzrdqAuh2wUx"
      }
    },
    {
      "cell_type": "markdown",
      "source": [
        "(b) Considérons le cas général où `Objet` est un type de données quelconque et supposons que seule l’opérateur booléen de l’égalité (noté =) est définit pour le type Objet, c’està-dire, l’opérateur = permet donc de déterminer si deux valeurs de type Objet sont égales ou non (vous n’avez donc pas le droit aux opérations <, >, ≤, ≥). Appliquez le principe *«Diviser pour régner»* pour décrire un algorithme dans $O(n\\log n)$ qui résout le problème pour le type `Objet`.\n",
        "\n",
        "**Réponse :**\n",
        "\n",
        "\n",
        "1. **Cas de base** :\n",
        "   - Lorsque $B_I = B_S$, cela signifie qu'il n'y a qu'un seul élément dans le sous-tableau.\n",
        "   - Si l'élément à l'indice $B_I$ est égal à sa valeur attendue $Tab[B_I] = B_I$, alors l'entier manquant est juste après cet élément, soit à la position $B_I + 1$.\n",
        "   - Sinon, l'entier manquant est à la position $B_I$.\n",
        "\n",
        "2. **Diviser pour régner** :\n",
        "   - Si $B_I \\neq B_S$, on calcule le milieu du tableau :\n",
        "\n",
        "     $\\[\n",
        "     \\text{milieu} = \\left\\lfloor \\frac{B_I + B_S}{2} \\right\\rfloor\n",
        "     \\]$\n",
        "\n",
        "   - Si la valeur à l'indice \"milieu\" est supérieure à \"milieu\" $Tab[\\text{milieu}] > \\text{milieu}$, cela signifie que l'entier manquant se trouve dans la partie gauche du tableau.\n",
        "   - Sinon, l'entier manquant se trouve dans la partie droite du tableau, et on continue la recherche dans cette partie.\n",
        "\n",
        "3. **Retour du résultat** :\n",
        "   - La fonction effectue des appels récursifs sur les sous-parties du tableau jusqu'à atteindre le cas de base où $B_I = B_S$. À ce moment, la fonction retourne l'entier manquant.\n",
        "\n",
        "Voici le pseudocode pour la fonction `TROUVERMAJORITAIRE` qui utilise la récursion et le principe Diviser pour Régner:\n",
        "\n",
        "```\n",
        "1:  procédure TROUVERMAJORITAIRE(Tab : tableau, BI, BS : indices, t : booléen, x : Objet)\n",
        "2:      si BS = BI alors                          ▷ Cas de base : si BI et BS sont égaux (un seul élément)\n",
        "3:          t ← Vrai                              ▷ Un élément est forcément majoritaire dans une sous-liste de taille 1\n",
        "4:          x ← Tab[BI]                           ▷ L'élément majoritaire est cet unique élément\n",
        "5:      sinon\n",
        "6:          t ← Vrai\n",
        "7:          milieu ← (BI + BS) ÷ 2                ▷ Calculer le milieu du tableau\n",
        "8:          TROUVERMAJORITAIRE(Tab, BI, milieu, trouveGauche, x1)  ▷ Appel récursif sur la moitié gauche\n",
        "9:          si trouveGauche alors\n",
        "10:             freq ← 0                          ▷ Initialiser un compteur de fréquence\n",
        "11:             pour i ← 1, ..., n faire          ▷ Parcourir la liste entière pour compter les occurrences de x1\n",
        "12:                 si Tab[i] = x1 alors\n",
        "13:                     freq ← freq + 1\n",
        "14:                 fin si\n",
        "15:             fin pour\n",
        "16:             si freq > (BS - BI + 1) ÷ 2 alors  ▷ Vérifier si x1 apparaît plus de la moitié du temps\n",
        "17:                 t ← Vrai                       ▷ Si oui, x1 est majoritaire\n",
        "18:                 x ← x1\n",
        "19:             fin si\n",
        "20:         fin si\n",
        "21:         si ¬t alors                            ▷ Si aucun majoritaire trouvé dans la première moitié\n",
        "22:             TROUVERMAJORITAIRE(Tab, milieu + 1, BS, trouveDroite, x2)  ▷ Appel récursif sur la moitié droite\n",
        "23:             si trouveDroite alors\n",
        "24:                 freq ← 0                       ▷ Réinitialiser le compteur de fréquence\n",
        "25:                 pour i ← 1, ..., n faire       ▷ Parcourir la liste entière pour compter les occurrences de x2\n",
        "26:                     si Tab[i] = x2 alors\n",
        "27:                         freq ← freq + 1\n",
        "28:                     fin si\n",
        "29:                 fin pour\n",
        "30:                 si freq > (BS - BI + 1) ÷ 2 alors  ▷ Vérifier si x2 apparaît plus de la moitié du temps\n",
        "31:                     t ← Vrai                  ▷ Si oui, x2 est majoritaire\n",
        "32:                     x ← x2\n",
        "33:                 fin si\n",
        "34:             fin si\n",
        "35:         fin si\n",
        "36:     fin si\n",
        "37: fin procédure\n",
        "\n",
        "```\n",
        "\n",
        "**Complexité temporelle :**\n",
        "L'algorithme suit le paradigme Diviser pour régner, ce qui lui donne une complexité similaire à celle du tri fusion, soit $O(n \\log n)$ À chaque niveau de la récursion, on effectue deux appels récursifs et une boucle de comptage qui traverse l'ensemble du tableau, ce qui correspond à $O(n)$ pour chaque niveau de la récursion.\n",
        "\n"
      ],
      "metadata": {
        "id": "2w1RR3j3AM8X"
      }
    }
  ]
}