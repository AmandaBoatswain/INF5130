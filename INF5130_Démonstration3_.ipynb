{
  "nbformat": 4,
  "nbformat_minor": 0,
  "metadata": {
    "colab": {
      "provenance": []
    },
    "kernelspec": {
      "name": "python3",
      "display_name": "Python 3"
    },
    "language_info": {
      "name": "python"
    }
  },
  "cells": [
    {
      "cell_type": "markdown",
      "source": [
        "# Démonstration 3\n",
        "\n",
        "* Mercredi le 25 Septembre 2024\n",
        "* 9h30-11h30, SH-3620 | Campus de Montréal\n",
        "* Présenté par Amanda Boatswain Jacques\n",
        "\n",
        "\n",
        "&nbsp;  \n",
        "\n",
        "*Note* : Le pseudocode, les exemples codés et quelques portions des explications ont été générés par ChatGPT. Cependant, la version finale des programmes (**Attention:** parfois ChatGPT me générait des trucs qui ne fonctionnaient pas ou qui n'étaient pas corrects!!!), ainsi que le texte ont été retouchés par moi. Finalement, j'ai modifié le pseudocode de chaque algorithme pour correspondre aux conventions de pseudocode présentés par le prof. 😃\n",
        "\n"
      ],
      "metadata": {
        "id": "70kxoayiDizG"
      }
    },
    {
      "cell_type": "markdown",
      "source": [
        "## **Exercice 1**\n",
        "\n",
        "La fonction suivante prend en entrée une portion de tableau contenue entre l’indice $B_I$ et l’indice $B_S$ et retourne deux nombres entiers (les indices des tableaux commencent à 1). Les éléments du tableau sont eux-mêmes des entiers. Vous pouvez supposer que les éléments du tableau sont tous différents les uns des autres et que le nombre d’éléments de la portion de tableau est pair et plus grand que 0."
      ],
      "metadata": {
        "id": "VBVmjUrsIW5w"
      }
    },
    {
      "cell_type": "markdown",
      "source": [
        "\n",
        "*Pseudocode*\n",
        "\n",
        "```\n",
        "1: fonction bidon(Tab : tableau, BI, BS : indices)\n",
        "    \n",
        "    Entrée :\n",
        "        Tab : tableau de 1 à n éléments\n",
        "    Sortie :\n",
        "        BI : Nombre entier (indice)\n",
        "        BS : Nombre enter (indice)\n",
        "\n",
        "\n",
        "2:     si Tab[BI] ≥ Tab[BI + 1] alors\n",
        "3:         w ← Tab[BI]\n",
        "4:         x ← Tab[BI + 1]\n",
        "5:     sinon\n",
        "6:         w ← Tab[BI + 1]\n",
        "7:         x ← Tab[BI]\n",
        "8:     fin si\n",
        "9:     \n",
        "10:    si BS ≤ BI + 1 alors\n",
        "11:        n1 ← w\n",
        "12:        n2 ← x\n",
        "13:    sinon\n",
        "14:        (y, z) ← bidon(Tab, BI + 2, BS)\n",
        "15:        \n",
        "16:        si w ≥ y alors\n",
        "17:            n1 ← w\n",
        "18:        sinon\n",
        "19:            n1 ← y\n",
        "20:        fin si\n",
        "21:        \n",
        "22:        si x ≤ z alors\n",
        "23:            n2 ← x\n",
        "24:        sinon\n",
        "25:            n2 ← z\n",
        "26:        fin si\n",
        "27:    fin si\n",
        "28:    \n",
        "29:    retourner (n1, n2)\n",
        "30:\n",
        "31: fin fonction\n",
        "\n",
        "```\n",
        "\n"
      ],
      "metadata": {
        "id": "ZAOrGS1UJ62b"
      }
    },
    {
      "cell_type": "markdown",
      "source": [
        "\n",
        "(a) Supposons que $B_I = 1$, $B_S = 6$ et que $Tab$ contient les éléments [−7, 2, −3, 5, 0, 1]. Faites la trace de l’appel bidon(Tab, $B_I$,$B_S$) : pour chaque appel à bidon() dans la pile d’exécution, donnez les valeurs de $B_I$, $B_S$ et les valeurs retournées $n_1$,$n_2$, si ces dernières ne sont pas encore connues, mettez \"?\".\n",
        "\n",
        "\n",
        "**Réponse au tableau.**\n",
        "\n",
        "&nbsp;  \n",
        "<img src=\"https://raw.githubusercontent.com/AmandaBoatswain/INF5130/refs/heads/main/figures/demo3_exercice_1fig1.png\" />"
      ],
      "metadata": {
        "id": "nJikbCBbhdz9"
      }
    },
    {
      "cell_type": "markdown",
      "source": [
        "(b) Décrivez ce que fait bidon() en général.\n",
        "\n",
        "Il y a trois étapes principales dans l'éxécution de la fonction bidon():\n",
        "\n",
        "1.   La fonction compare deux éléments adjacents de la portion du tableau spécifiée par les indices $B_I$ et $B_I+1$ et attribue la plus grande valeur à $w$ et la plus petite à $x$. (Lignes 2 à 8)\n",
        "2.   Si les deux éléments sont les seuls de la portion $(B_S \\leq B_I + 1)$, elle retourne ces deux valeurs. (Lignes 10 à 12 -> *Cas de base*)\n",
        "3.   Sinon, elle appelle récursivement la fonction sur le reste de la portion du tableau et compare $w$ et $x$ aux résultats de l'appel récursif pour trouver le maximum et le minimum de la portion. (Lignes 13 à 27)\n",
        "\n",
        "En regardant les traces ci-dessous, on peut voir que la fonction retourne bien le max ($n_1$) et le min ($n_2$) de Tab.\n"
      ],
      "metadata": {
        "id": "YJSQBf0gtmZm"
      }
    },
    {
      "cell_type": "code",
      "source": [
        "def bidon(Tab, BI, BS):\n",
        "\n",
        "    # Comparaison des deux premiers éléments de la portion de tableau\n",
        "    if Tab[BI] >= Tab[BI + 1]:\n",
        "        w = Tab[BI]\n",
        "        x = Tab[BI + 1]\n",
        "\n",
        "    else:\n",
        "        w = Tab[BI + 1]\n",
        "        x = Tab[BI]\n",
        "\n",
        "    print(\"w :\", w)\n",
        "    print(\"x :\", x)\n",
        "\n",
        "    # Cas de base : Comparer BS et BI+1, si BS est plus petit ou égal à BS, assigner n1 et n2\n",
        "    if BS <= BI + 1:\n",
        "        print(\"Cas de base...\")\n",
        "        n1 = w\n",
        "        n2 = x\n",
        "    else:\n",
        "        # Sinon, on fait un appel récursif pour traiter le reste de la portion du tableau\n",
        "        print(\"Appel récursif...\")\n",
        "        y, z = bidon(Tab, BI + 2, BS) # On avance BI et on compare les deux prochains chiffres\n",
        "\n",
        "        print(\"y :\", y)\n",
        "        print(\"z :\", z)\n",
        "        print(\"w :\", w)\n",
        "        print(\"x :\", x)\n",
        "\n",
        "        # Calcul le maximum et minimum du tableau respectivement\n",
        "        print(\"Calcul du maximum et minimum du tableau...\")\n",
        "        if w >= y:\n",
        "            n1 = w\n",
        "        else:\n",
        "            n1 = y\n",
        "\n",
        "        if x <= z:\n",
        "            n2 = x\n",
        "        else:\n",
        "            n2 = z\n",
        "\n",
        "        print(\"n1 :\", n1)\n",
        "        print(\"n2 :\", n2)\n",
        "\n",
        "    # Retourner les deux entiers n1 et n2\n",
        "    return n1, n2"
      ],
      "metadata": {
        "id": "bgQeHBNWDTh4"
      },
      "execution_count": null,
      "outputs": []
    },
    {
      "cell_type": "code",
      "source": [
        "Tab = [-7, 2, -3, 5, 0, 1]\n",
        "\n",
        "BI = 0\n",
        "BS = 5\n",
        "\n",
        "bidon(Tab, BI, BS)"
      ],
      "metadata": {
        "colab": {
          "base_uri": "https://localhost:8080/"
        },
        "id": "Zv9D0yh7sA-O",
        "outputId": "ff89944c-f121-460e-bfb0-06b713a3cf55"
      },
      "execution_count": null,
      "outputs": [
        {
          "output_type": "stream",
          "name": "stdout",
          "text": [
            "w : 2\n",
            "x : -7\n",
            "Appel récursif...\n",
            "w : 5\n",
            "x : -3\n",
            "Appel récursif...\n",
            "w : 1\n",
            "x : 0\n",
            "Cas de base...\n",
            "y : 1\n",
            "z : 0\n",
            "w : 5\n",
            "x : -3\n",
            "Calcul du maximum et minimum du tableau...\n",
            "n1 : 5\n",
            "n2 : -3\n",
            "y : 5\n",
            "z : -3\n",
            "w : 2\n",
            "x : -7\n",
            "Calcul du maximum et minimum du tableau...\n",
            "n1 : 5\n",
            "n2 : -7\n"
          ]
        },
        {
          "output_type": "execute_result",
          "data": {
            "text/plain": [
              "(5, -7)"
            ]
          },
          "metadata": {},
          "execution_count": 7
        }
      ]
    },
    {
      "cell_type": "markdown",
      "source": [
        "(c) Soit $T(n)$ le nombre de comparaisons effectuées par un appel de bidon() lorsque le nombre d’éléments de la portion de tableau est égal à $n$. La comparaison $B_S \\leq B_I + 1$ ne compte pas... Écrivez l’équation de récurrence satisfaite par $T(n)$.\n",
        "\n",
        "Réponse:\n",
        "\n",
        "**$T(n) = T(n-2) + 3$**\n",
        "\n"
      ],
      "metadata": {
        "id": "YLHpe46L0QOw"
      }
    },
    {
      "cell_type": "markdown",
      "source": [
        "(d) Résolvez l’équation de récurrence que vous avez trouvée en (c). Vous pouvez la résoudre de manière exacte.\n",
        "\n",
        "**Réponse au tableau.**\n",
        "\n",
        "\n"
      ],
      "metadata": {
        "id": "Ny5vCxvs0sBP"
      }
    },
    {
      "cell_type": "markdown",
      "source": [
        "## **Exercice 2**\n",
        "\n",
        "**Le problème des tours de Hanoï**\n",
        "\n",
        "Contexte: On dispose de trois piquets, et sur l’un de ces piquets sont empilés des disques de tailles différentes en ordre décroissant, c’est-à-dire du plus grand en bas au plus petit en haut. L’objectif est de déplacer tous les disques vers un autre piquet, en respectant les règles suivantes :\n",
        "\n",
        "&nbsp;  \n",
        "**Règles du jeu :**\n",
        "1. On ne peut déplacer qu'un seul disque à la fois.\n",
        "2. Un disque ne peut être placé que sur un piquet vide ou sur un disque plus grand que lui.\n",
        "3. On doit transférer tous les disques d’un piquet d’origine à un piquet de destination en utilisant éventuellement le piquet intermédiaire.\n",
        "\n",
        "Exemple : Supposons que l’on ait 3 disques. Le but est de les déplacer du piquet $A$ au piquet $C$ (en utilisant le piquet $B$ si nécessaire) en suivant les règles ci-dessus. Le nombre minimum de mouvements nécessaires pour résoudre le problème avec $n$ disques est de $2^𝑛−1$. Par exemple, pour 3 disques, cela donne $2^3−1=7$ mouvements. Cette [vidéo](https://youtu.be/mDA4YclG3uE?si=AlyVIveoaD7uJjGg/) illustre le problème assez bien!  \n",
        "\n",
        "&nbsp;  \n",
        "**Solution récursive**\n",
        "\n",
        "Le problème peut être résolu de manière récursive en divisant le problème en sous-problèmes :\n",
        "\n",
        "1.  Déplacer les n-1 disques du piquet de départ au piquet intermédiaire.\n",
        "2.  Déplacer le plus grand disque directement vers le piquet de destination.\n",
        "3.  Déplacer les n-1 disques du piquet intermédiaire vers le piquet de destination.\n",
        "\n",
        "Chaque mouvement dans ce processus suit les mêmes règles jusqu'à ce que tous les disques soient correctement déplacés.\n",
        "\n",
        "Voici un algorithme qui permet de résoudre le problème des tours de Hanoï :\n",
        " 🗼🗼🗼\n",
        "\n",
        "\n",
        "*Pseudocode*\n",
        "\n",
        "```\n",
        "1: procedure deplacer(n : entier naturel, T1, T2, T3 : indices de tours [1,2,3])\n",
        "\n",
        "    Entrée :\n",
        "      n : nombre entier\n",
        "      T1, T2, T3 :  indices de tours\n",
        "\n",
        "2:     si n = 1 alors\n",
        "3:         afficher(\"Déplacer un disque de la tour\", T1, \"à la tour\", T2)\n",
        "4:     sinon\n",
        "5:         deplacer(n - 1, T1, T3, T2)  ▷ Déplacer n-1 disques de T1 à T3 en utilisant T2 comme tour intermédiaire\n",
        "6:         afficher(\"Déplacer un disque de la tour\", T1, \"à la tour\", T2)\n",
        "7:         deplacer(n - 1, T3, T2, T1)  ▷ Déplacer n-1 disques de T3 à T2 en utilisant T1 comme tour intermédiaire\n",
        "8:     finsi\n",
        "9: fin procedure\n",
        "```\n",
        "\n",
        "`deplacer(n,T1,T2,T3)` a pour effet d’afficher tous les déplacements requis pour enfiler $n$ disques sur la tour $T_2$. Au départ les disques sont enfilés sur la tour $T_1$.\n",
        "\n",
        "\n"
      ],
      "metadata": {
        "id": "ate_LW6xbbfM"
      }
    },
    {
      "cell_type": "markdown",
      "source": [
        "(a) Soit $T(n)$ le nombre de déplacements effectués, ou, ce qui revient au même, le nombre de messages affichés par la procédure `deplacer()` lorsqu’elle est appelée avec $n$ pour paramètre. En supposant que l’affichage d’un message prend un temps égal à 1, écrivez l’équation de récurrence satisfaite par $T(n)$.\n",
        "\n",
        "Réponse:\n",
        "\n",
        "*$T(n) = 2T(n-1) + 1, T(1) = 1$*\n"
      ],
      "metadata": {
        "id": "ihxGEcNEH4IK"
      }
    },
    {
      "cell_type": "markdown",
      "source": [
        "(b) Résolvez l’équation de récurrence trouvée en (a). Vous pouvez la résoudre de manière exacte.\n",
        "\n",
        "**Réponse au tableau.**\n"
      ],
      "metadata": {
        "id": "AQ5IQvutH4Pp"
      }
    },
    {
      "cell_type": "markdown",
      "source": [
        "## **Exercice 3**\n",
        "\n",
        "Soit $Tab$ un tableau de nombres entiers tous différents les uns des autres dont les indices sont compris entre 1 et $n$. On suppose que les éléments de $Tab$ sont en ordre croissant et on désire résoudre le problème suivant :\n",
        "\n",
        "*   Existe-t-il un indice $i$ tel que $Tab[i] = i$?\n",
        "\n",
        "Écrivez une fonction booléenne qui retourne la valeur VRAI si et seulement si un indice $i$ vérifiant le problàme ci-dessus existe dans le tableau Tab. Votre fonction doit prendre un temps proportionnel à $\\log(n)$ dans le pire des cas.\n",
        "\n"
      ],
      "metadata": {
        "id": "4TnB4x7mIqCY"
      }
    },
    {
      "cell_type": "markdown",
      "source": [
        "Réponse:\n",
        "&nbsp;\n",
        "\n",
        "L'algorithme qui vérifie s'il existe un point fixe dans un tableau trié (c'est-à-dire une position $i$ telle que $T[i]=i$) en utilisant une approche récursive de recherche dichotomique :\n",
        "\n",
        "Explication des étapes :\n",
        "\n",
        "1.\t**Initialisation des bornes :** L'algorithme commence avec des bornes $B_I$ (borne inférieure) et $B_S$ (borne supérieure), qui représentent les indices extrêmes du tableau à examiner.\n",
        "2.\t**Condition d'arrêt :** Si $B_S < B_I$, cela signifie que la recherche est terminée sans avoir trouvé de point fixe, et donc l'algorithme retourne FAUX.\n",
        "3.\t**Milieu du tableau :** L'algorithme calcule l'indice du milieu $m$.\n",
        "4.\t**Comparaison :**\n",
        "  *   Si $Tab[m]= m$, cela signifie qu'un point fixe est trouvé, et l'algorithme retourne VRAI.\n",
        "  *   Si $Tab[m] < m$, cela signifie que le point fixe potentiel doit être à droite de $m$, donc l'algorithme continue la recherche dans la partie droite.\n",
        "  * Si $Tab[m] > m$, cela signifie que le point fixe potentiel doit être à gauche de $m$, donc l'algorithme continue la recherche dans la partie gauche."
      ],
      "metadata": {
        "id": "IA4PorMEM4MY"
      }
    },
    {
      "cell_type": "markdown",
      "source": [
        "*Pseudocode *\n",
        "\n",
        "```\n",
        "1: fonction pointFixe(Tab : tableau, BI, BS : entier naturel) : booléen\n",
        "      Entrée:\n",
        "        BI : nombre entier - la borne inférieure (indice de début)\n",
        "        BS : nombre entier - la borne supérieure (indice de fin)\n",
        "      Retour:\n",
        "        Vrai / Faux : Booléen\n",
        "\n",
        "2:     si BS < BI alors\n",
        "3:         retourner Faux  ▷  Si la borne supérieure est inférieure à la borne inférieure, il n'y a pas de point fixe\n",
        "4:     sinon\n",
        "5:         m ← (BI + BS) ÷ 2  ▷  Calcul de l'indice du milieu\n",
        "6:         si Tab[m] = m alors\n",
        "7:             retourner Vrai  ▷  Si l'élément au milieu est égal à son indice, alors on a trouvé un point fixe\n",
        "8:         sinon si Tab[m] < m alors\n",
        "9:             retourner pointFixe(Tab, m + 1, BS)  ▷  Si l'élément est plus petit que l'indice, chercher dans la partie droite\n",
        "10:        sinon\n",
        "11:             retourner pointFixe(Tab, BI, m - 1)  ▷  Sinon, chercher dans la partie gauche\n",
        "12:        fin si\n",
        "13:     fin si\n",
        "14: fin fonction\n",
        "```\n",
        "\n"
      ],
      "metadata": {
        "id": "rANOeA76gkHM"
      }
    },
    {
      "cell_type": "markdown",
      "source": [
        "## **Exercice 4**\n",
        "\n",
        "Écrivez un algorithme efficace pour calculer la racine carrée entière d’un entier $n$ supérieur ou égal à 2. La racine carrée entière de $n$ est le plus grand entier positif $r$ tel que $r^2 \\leq n$. Par *algorithme efficace*, on entend un algorithme dont le temps d’exécution est proportionnel à $\\log(n)$."
      ],
      "metadata": {
        "id": "UIsHMSDqgnsd"
      }
    },
    {
      "cell_type": "markdown",
      "source": [
        "Réponse:\n",
        "\n",
        "Encore une fois, on peut utiliser une approche basée sur la recherche dichotomique:  \n",
        "\n",
        "\n",
        "1.  **Condition d'arrêt** (ligne 2-3) :\n",
        "  * Si l'intervalle de recherche ne contient plus que deux éléments (i.e., $B_S=B_I+1$), alors la racine carrée entière est $B_I$. Cela signifie que nous avons trouvé la plus grande valeur rrr telle que $r^2 \\leq n$.\n",
        "\n",
        "2. **Division de l'intervalle** (ligne 5-9) :\n",
        "  *   À chaque étape, on divise l'intervalle en deux en calculant le milieu $m$.\n",
        "  *   Si $m^2 \\leq n$, on sait que la racine carrée entière se situe à droite ou égale à $m$.\n",
        "  *   Si $m ^2 > n$, on sait que la racine carrée entière se situe à gauche de $m$.\n",
        "3. **Récursivité**\n",
        "  * L'algorithme appelle la fonction racine de manière récursive jusqu'à ce que la condition $B_S=B_I+1$ soit atteinte.\n"
      ],
      "metadata": {
        "id": "yF6xZBuuLGfX"
      }
    },
    {
      "cell_type": "markdown",
      "source": [
        "Pseudocode\n",
        "\n",
        "```\n",
        "1: fonction racine(n, BI, BS : entier naturel) : entier naturel\n",
        "    Entrée:\n",
        "        n : l'entier dont on veut calculer la racine carrée entière\n",
        "        BI : la borne inférieure de l'intervalle de recherche\n",
        "        BS : la borne supérieure de l'intervalle de recherche\n",
        "    Retour:\n",
        "        entier naturel (racine carrée de n)\n",
        "\n",
        "2:     si BS = BI + 1 alors\n",
        "3:         retourner BI ▷ Si l'intervalle est réduit à sa plus simple expression, BI est la racine carrée entière\n",
        "4:     sinon\n",
        "5:         milieu ← (BI + BS) ÷ 2 ▷ Calcul de l'élément du milieu\n",
        "6:        si milieu × milieu > n alors\n",
        "7:            retourner racine(n, BI, milieu) ▷ Recherche dans la partie gauche\n",
        "8:        sinon\n",
        "9:            retourner racine(n, milieu, BS) ▷ Recherche dans la partie droite\n",
        "10:        fin si\n",
        "11:     fin si\n",
        "12: fin fonction\n",
        "```\n",
        "\n"
      ],
      "metadata": {
        "id": "QLwG4AgLT4VC"
      }
    },
    {
      "cell_type": "markdown",
      "source": [
        "\n",
        "La fonction suivante retourne la racine carrée entière de n à condition que celle-ci soit comprise entre $B_I$ et $B_S – 1$. L’appel `racine(n,1,n)` retournera donc la racine carrée entière de $n$. On suppose que $n$ est supérieur ou égal à 2 et que $B_I$ est strictement inférieur à $B_S$.\n"
      ],
      "metadata": {
        "id": "q5z0Cz39UdgM"
      }
    },
    {
      "cell_type": "markdown",
      "source": [
        "## **Exercice 5**\n",
        "\n",
        "Le but de cet exercice est de résoudre des équations de récurrence de la forme:\n",
        "\n",
        "$T(n) = T(n−a)+T(a)+n$\n"
      ],
      "metadata": {
        "id": "0bg7WxzuKP2K"
      }
    },
    {
      "cell_type": "markdown",
      "source": [
        "(a) Résolvez cette équation de manière exacte dans le cas où a est égal à 1. Vous pouvez supposer que T(1) est une constante connue.\n",
        "\n",
        "**Réponse au tableau.**"
      ],
      "metadata": {
        "id": "wO1FZYVvKvOo"
      }
    },
    {
      "cell_type": "markdown",
      "source": [
        "(b) Résolvez cette équation de manière exacte dans le cas où a est égal à 2. Vous pouvez supposer que T(2) et T(1) sont des constantes connues, et que $n$ est un nombre pair.  \n",
        "\n",
        "**Réponse au tableau.**"
      ],
      "metadata": {
        "id": "7diLT5QlKxuz"
      }
    },
    {
      "cell_type": "markdown",
      "source": [
        "(c) Pouvez-vous \"deviner\" la complexité de la solution lorsque a est un nombre quelconque mais fixe?\n",
        "\n",
        "Réponse:\n",
        "\n",
        "$T(n)$ est dans $Θ(n^2)$ quelque soit la valeur de la constante $a$.\n"
      ],
      "metadata": {
        "id": "Djcxj-A-K8Kn"
      }
    }
  ]
}